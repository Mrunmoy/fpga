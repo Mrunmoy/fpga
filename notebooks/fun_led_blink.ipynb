{
 "cells": [
  {
   "cell_type": "markdown",
   "id": "ffeba358",
   "metadata": {},
   "source": [
    "# Fun Star Wars LED Sweep\n",
    "\n",
    "A simple Python notebook to test the PS–PL loop on the PYNQ-Z2 board.\n",
    "Inspired by Star Wars lightsaber or KITT scanner!\n",
    "\n",
    "Make sure you have loaded the `base.bit` overlay.\n"
   ]
  },
  {
   "cell_type": "code",
   "execution_count": null,
   "id": "778b9a22",
   "metadata": {
    "vscode": {
     "languageId": "plaintext"
    }
   },
   "outputs": [],
   "source": [
    "from pynq.overlays.base import BaseOverlay\n",
    "import time\n",
    "\n",
    "# Load the base overlay (loads only once)\n",
    "base = BaseOverlay(\"base.bit\")\n",
    "\n",
    "# Grab the 4 user LEDs\n",
    "leds = base.leds"
   ]
  },
  {
   "cell_type": "code",
   "execution_count": null,
   "id": "fea8245d",
   "metadata": {
    "vscode": {
     "languageId": "plaintext"
    }
   },
   "outputs": [],
   "source": [
    "print(\"Starting Star Wars LED sweep...\")\n",
    "\n",
    "# Number of sweeps\n",
    "sweeps = 10\n",
    "delay = 0.1  # seconds\n",
    "\n",
    "for _ in range(sweeps):\n",
    "    # Sweep left to right\n",
    "    for i in range(len(leds)):\n",
    "        for led in leds:\n",
    "            led.off()\n",
    "        leds[i].on()\n",
    "        time.sleep(delay)\n",
    "    \n",
    "    # Sweep right to left\n",
    "    for i in reversed(range(len(leds))):\n",
    "        for led in leds:\n",
    "            led.off()\n",
    "        leds[i].on()\n",
    "        time.sleep(delay)\n",
    "\n",
    "# Turn all off at the end\n",
    "for led in leds:\n",
    "    led.off()\n",
    "\n",
    "print(\"Done. May the force be with your LEDs!\")"
   ]
  }
 ],
 "metadata": {
  "language_info": {
   "name": "python"
  }
 },
 "nbformat": 4,
 "nbformat_minor": 5
}
