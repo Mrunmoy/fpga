{
 "cells": [
  {
   "cell_type": "code",
   "execution_count": null,
   "id": "c1c0ad96",
   "metadata": {
    "vscode": {
     "languageId": "plaintext"
    }
   },
   "outputs": [],
   "source": [
    "import time\n",
    "from pynq import Overlay, MMIO\n",
    "\n",
    "# Load overlay\n",
    "ol = Overlay(\"/home/xilinx/pynq/overlays/spi_test/design_1_wrapper.bit\")\n",
    "\n",
    "# SPI block base address and size (from your output)\n",
    "base_addr = 0x41E00000\n",
    "addr_range = 0x10000  # 64K range is fine\n",
    "\n",
    "spi_mmio = MMIO(base_addr, addr_range)\n",
    "\n",
    "\n",
    "import time\n",
    "\n",
    "class Max7219:\n",
    "    def __init__(self, spi_mmio):\n",
    "        self.spi_mmio = spi_mmio\n",
    "        self.reset()\n",
    "        self.init_display()\n",
    "\n",
    "    def reset(self):\n",
    "        # Software reset\n",
    "        self.spi_mmio.write(0x40, 0xA)\n",
    "        # Enable SPI: Master mode, CPOL=0, CPHA=0\n",
    "        self.spi_mmio.write(0x60, 0x6)\n",
    "        # Select slave 0\n",
    "        self.spi_mmio.write(0x70, 0x0)\n",
    "\n",
    "    def _write(self, reg, data):\n",
    "        self.spi_mmio.write(0x68, reg)\n",
    "        while not (self.spi_mmio.read(0x64) & (1 << 2)):\n",
    "            pass\n",
    "        self.spi_mmio.write(0x68, data)\n",
    "        while not (self.spi_mmio.read(0x64) & (1 << 2)):\n",
    "            pass\n",
    "\n",
    "    def init_display(self, brightness=0x08):\n",
    "        \"\"\"Initialize the MAX7219 display.\"\"\"\n",
    "        self._write(0x0F, 0x00)      # Test mode: off\n",
    "        self._write(0x09, 0x00)      # Decode mode: none\n",
    "        self._write(0x0B, 0x07)      # Scan limit: 8 digits\n",
    "        self._write(0x0C, 0x01)      # Shutdown: normal operation\n",
    "        self._write(0x0A, brightness & 0x0F)  # Intensity: 0x00 to 0x0F\n",
    "        self.clear()\n",
    "\n",
    "    def clear(self):\n",
    "        \"\"\"Clear all rows.\"\"\"\n",
    "        for row in range(1, 9):\n",
    "            self._write(row, 0x00)\n",
    "\n",
    "    def rotate_frame_90(self, frame):\n",
    "        rotated = []\n",
    "        for col in range(8):\n",
    "            val = 0\n",
    "            for row in range(8):\n",
    "                bit = (frame[row] >> col) & 0x01\n",
    "                val |= bit << (7 - row)\n",
    "            rotated.append(val)\n",
    "        return rotated\n",
    "\n",
    "    def draw(self, frame):\n",
    "        \"\"\"Draw an 8-byte frame.\"\"\"\n",
    "        for row in range(1, 9):\n",
    "            value = frame[row - 1] if row - 1 < len(frame) else 0x00\n",
    "            self._write(row, value)\n",
    "\n",
    "    def blink(self, frame1, frame2, times=5, delay=0.3):\n",
    "        \"\"\"Blink between two frames.\"\"\"\n",
    "        for _ in range(times):\n",
    "            self.draw(frame1)\n",
    "            time.sleep(delay)\n",
    "            self.draw(frame2)\n",
    "            time.sleep(delay)\n",
    "        self.draw(frame1)\n",
    "\n",
    "\n",
    "\n",
    "# Example: set up driver\n",
    "led = Max7219(spi_mmio)\n",
    "\n",
    "# Your eye frames\n",
    "eye_open = [\n",
    "    0b00000000,\n",
    "    0b00000000,\n",
    "    0b00100100,\n",
    "    0b00100100,\n",
    "    0b00000000,\n",
    "    0b00000000,\n",
    "    0b00000000,\n",
    "    0b00000000,\n",
    "]\n",
    "\n",
    "eye_blink = [\n",
    "    0b00000000,\n",
    "    0b00000000,\n",
    "    0b00000000,\n",
    "    0b00100100,\n",
    "    0b00000000,\n",
    "    0b00000000,\n",
    "    0b00000000,\n",
    "    0b00000000,\n",
    "]\n",
    "\n",
    "print(\"Init Complete!\")"
   ]
  },
  {
   "cell_type": "code",
   "execution_count": null,
   "id": "bf952c43",
   "metadata": {
    "vscode": {
     "languageId": "plaintext"
    }
   },
   "outputs": [],
   "source": [
    "eye_open_rotated = led.rotate_frame_90(eye_open)\n",
    "led.draw(eye_open_rotated)\n",
    "eye_blink_rotated = led.rotate_frame_90(eye_blink)\n",
    "led.draw(eye_open_rotated)\n",
    "print(\"Eye pattern displayed!\")"
   ]
  },
  {
   "cell_type": "code",
   "execution_count": null,
   "id": "a5888083",
   "metadata": {
    "vscode": {
     "languageId": "plaintext"
    }
   },
   "outputs": [],
   "source": [
    "# Blink!\n",
    "led.blink(eye_open_rotated, eye_blink_rotated, times=5)\n",
    "\n",
    "print(\"Eye blink displayed!\")"
   ]
  }
 ],
 "metadata": {
  "language_info": {
   "name": "python"
  }
 },
 "nbformat": 4,
 "nbformat_minor": 5
}
